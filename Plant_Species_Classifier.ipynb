{
  "nbformat": 4,
  "nbformat_minor": 0,
  "metadata": {
    "colab": {
      "provenance": []
    },
    "kernelspec": {
      "name": "python3",
      "display_name": "Python 3"
    },
    "language_info": {
      "name": "python"
    }
  },
  "cells": [
    {
      "cell_type": "markdown",
      "source": [
        "# Plant Species Classifier\n",
        "Welcome to the Plant Species Classifer application! To get started, run the following block of code to ensure that Google Colab is using the latest versions of TensorFlow and Keras. This is required to import the trained model."
      ],
      "metadata": {
        "id": "tCE-Vk-EeuHY"
      }
    },
    {
      "cell_type": "code",
      "source": [
        "!pip install --upgrade tensorflow\n",
        "!pip install --upgrade keras"
      ],
      "metadata": {
        "id": "yVe44bunered"
      },
      "execution_count": null,
      "outputs": []
    },
    {
      "cell_type": "markdown",
      "source": [
        "Next, we need to import the required libraries, download files for the trained model and visualization support, and create a few utility functions that will be used in the interactive application. Run the following code block to accomplish this."
      ],
      "metadata": {
        "id": "k0uWnTOecec_"
      }
    },
    {
      "cell_type": "code",
      "source": [
        "import tensorflow as tf\n",
        "from tensorflow.keras.models import load_model\n",
        "from tensorflow.keras.preprocessing import image\n",
        "import numpy as np\n",
        "import matplotlib.pyplot as plt\n",
        "from io import BytesIO\n",
        "from PIL import Image\n",
        "import gdown\n",
        "\n",
        "# Public image URLs from Google Drive.\n",
        "model_url = 'https://drive.google.com/uc?id=1rnCxsFkkO91rPBTsQFBJ4_vglk8uFGVM'\n",
        "training_history_url = 'https://drive.google.com/uc?id=1XBe_i1Wm1muATKwFn0-yefOmLUxgu1TF'\n",
        "test_images_url = 'https://drive.google.com/uc?id=1BBvYM11ruTZIp1me83WfHoEZBb98V2Mz'\n",
        "\n",
        "# Paths to store the downloaded images.\n",
        "model_path = 'plant_species_classifier.keras'\n",
        "training_history_path = 'training_history.json'\n",
        "test_images_path = 'test_images.zip'\n",
        "\n",
        "# Download the trained model, training history in JSON format, and test images for the confusion matrix.\n",
        "gdown.download(model_url, model_path, quiet=False)\n",
        "gdown.download(training_history_url, training_history_path, quiet=False)\n",
        "gdown.download(test_images_url, test_images_path, quiet=False)\n",
        "\n",
        "model = load_model(model_path)\n",
        "\n",
        "# List of plant species supported by the model.\n",
        "plant_species = [\n",
        "    \"aloevera\",\n",
        "    \"banana\",\n",
        "    \"bilimbi\",\n",
        "    \"cantaloupe\",\n",
        "    \"cassava\",\n",
        "    \"coconut\",\n",
        "    \"corn\",\n",
        "    \"cucumber\",\n",
        "    \"curcuma\",\n",
        "    \"eggplant\",\n",
        "    \"galangal\",\n",
        "    \"ginger\",\n",
        "    \"guava\",\n",
        "    \"kale\",\n",
        "    \"longbeans\",\n",
        "    \"mango\",\n",
        "    \"melon\",\n",
        "    \"orange\",\n",
        "    \"paddy\",\n",
        "    \"papaya\",\n",
        "    \"peperchili\",\n",
        "    \"pineapple\",\n",
        "    \"pomelo\",\n",
        "    \"shallot\",\n",
        "    \"soybeans\",\n",
        "    \"spinach\",\n",
        "    \"sweetpotatoes\",\n",
        "    \"tobacco\",\n",
        "    \"waterapple\",\n",
        "    \"watermelon\",\n",
        "]\n",
        "\n",
        "# Preprocess the image in preparation for feeding it to the model.\n",
        "def preprocess_image(img):\n",
        "    img = img.convert(\"RGB\")  # Convert the image to RGB format.\n",
        "    img = img.resize((224, 224))  # Resize the image to the input size of the model.\n",
        "    img = image.img_to_array(img)\n",
        "    img = np.expand_dims(img, axis=0)\n",
        "    img = img / 255.0  # Normalize the image.\n",
        "    return img\n",
        "\n",
        "# Preprocess the image and return the prediction from the model.\n",
        "def predict_image(img):\n",
        "    preprocessed_img = preprocess_image(img)\n",
        "    predictions = model.predict(preprocessed_img)\n",
        "    return predictions\n",
        "\n",
        "def plot_prediction_confidence(predictions, class_labels):\n",
        "    plt.figure(figsize=(10, 5))\n",
        "    plt.barh(class_labels, predictions[0], color='skyblue')\n",
        "    plt.xlabel('Confidence')\n",
        "    plt.ylabel('Class')\n",
        "    plt.title('Prediction Confidence for User-Uploaded Image')\n",
        "    plt.show()"
      ],
      "metadata": {
        "id": "Q94HOhTxcnql"
      },
      "execution_count": null,
      "outputs": []
    },
    {
      "cell_type": "markdown",
      "source": [
        "The following code block will prompt you to upload an image, and will return the predicted plant species. This will also display a confidence for the prediction as a bar graph."
      ],
      "metadata": {
        "id": "sgZ-NwP8cu4Z"
      }
    },
    {
      "cell_type": "code",
      "source": [
        "from google.colab import files\n",
        "uploaded = files.upload()\n",
        "\n",
        "# Make a prediction for the file that the user uploaded, and display the uploaded image.\n",
        "for file_name in uploaded.keys():\n",
        "    img = Image.open(BytesIO(uploaded[file_name]))\n",
        "    plt.imshow(img)\n",
        "    plt.axis('off')\n",
        "    plt.show()\n",
        "\n",
        "    # Get a prediction of the plant species from the model.\n",
        "    predictions = predict_image(img)\n",
        "    predicted_class = np.argmax(predictions, axis=1)\n",
        "\n",
        "    # Display the prediction and the confidence level for the prediction.\n",
        "    print(f'Predicted class: {plant_species[predicted_class[0]]}')\n",
        "    plot_prediction_confidence(predictions, plant_species)"
      ],
      "metadata": {
        "id": "5mpK0qVjdUOg"
      },
      "execution_count": null,
      "outputs": []
    },
    {
      "cell_type": "markdown",
      "source": [
        "# Dashboards\n",
        "\n",
        "The following two code blocks display two separate visualizations: one for the training and validation accuracy and loss, and one for a confusion matrix of the testing data in the plants classification dataset."
      ],
      "metadata": {
        "id": "RJP4k7pCMGAw"
      }
    },
    {
      "cell_type": "code",
      "source": [
        "import json\n",
        "\n",
        "# Plot the training and validation accuracy and loss for the model.\n",
        "def plot_training_vs_validation(history):\n",
        "    acc = history['accuracy']\n",
        "    val_acc = history['val_accuracy']\n",
        "    loss = history['loss']\n",
        "    val_loss = history['val_loss']\n",
        "    epochs = range(1, len(acc) + 1)\n",
        "\n",
        "    plt.figure(figsize=(14, 6))\n",
        "\n",
        "    plt.subplot(1, 2, 1)\n",
        "    plt.plot(epochs, acc, 'b', label='Training accuracy')\n",
        "    plt.plot(epochs, val_acc, 'r', label='Validation accuracy')\n",
        "    plt.title('Training and Validation Accuracy')\n",
        "    plt.xlabel('Epochs')\n",
        "    plt.ylabel('Accuracy')\n",
        "    plt.legend()\n",
        "\n",
        "    plt.subplot(1, 2, 2)\n",
        "    plt.plot(epochs, loss, 'b', label='Training loss')\n",
        "    plt.plot(epochs, val_loss, 'r', label='Validation loss')\n",
        "    plt.title('Training and Validation Loss')\n",
        "    plt.xlabel('Epochs')\n",
        "    plt.ylabel('Loss')\n",
        "    plt.legend()\n",
        "\n",
        "    plt.show()\n",
        "\n",
        "\n",
        "with open(training_history_path, 'r') as f:\n",
        "    history = json.load(f)\n",
        "    plot_training_vs_validation(history)"
      ],
      "metadata": {
        "id": "cOSQSDRX7s-p"
      },
      "execution_count": null,
      "outputs": []
    },
    {
      "cell_type": "code",
      "source": [
        "import tensorflow as tf\n",
        "from tensorflow.keras.preprocessing.image import ImageDataGenerator\n",
        "import numpy as np\n",
        "import matplotlib.pyplot as plt\n",
        "import pandas as pd\n",
        "from sklearn.metrics import confusion_matrix, ConfusionMatrixDisplay\n",
        "import zipfile\n",
        "\n",
        "# Extract the test images in ZIP format into a temporary directory.\n",
        "test_dir = 'test-images'\n",
        "with zipfile.ZipFile(test_images_path, 'r') as zip_ref:\n",
        "    zip_ref.extractall(test_dir)\n",
        "\n",
        "# Create a test file generator for the model to run predictions on.\n",
        "test_datagen = ImageDataGenerator(rescale=1./255)\n",
        "test_generator = test_datagen.flow_from_directory(\n",
        "    test_dir + '/test',\n",
        "    target_size=(224, 224),\n",
        "    batch_size=32,\n",
        "    class_mode='categorical',\n",
        "    shuffle=False\n",
        ")\n",
        "\n",
        "# Get the model's predictions for the test images.\n",
        "predictions = model.predict(test_generator, steps=len(test_generator), verbose=1)\n",
        "predicted_labels = np.argmax(predictions, axis=1)\n",
        "\n",
        "def plot_confusion_matrix(true_labels, predicted_labels, class_labels):\n",
        "    cm = confusion_matrix(true_labels, predicted_labels)\n",
        "    disp = ConfusionMatrixDisplay(confusion_matrix=cm, display_labels=class_labels)\n",
        "\n",
        "    plt.figure(figsize=(14, 14))\n",
        "    disp.plot(cmap=plt.cm.Blues, values_format='d')\n",
        "    plt.title('Confusion Matrix')\n",
        "    plt.xticks(rotation=90)\n",
        "    plt.show()\n",
        "\n",
        "plot_confusion_matrix(test_generator.classes, predicted_labels, plant_species)"
      ],
      "metadata": {
        "id": "JRm5-ROZ44z6"
      },
      "execution_count": null,
      "outputs": []
    }
  ]
}